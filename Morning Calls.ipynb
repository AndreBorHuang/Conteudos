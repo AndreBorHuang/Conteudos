{
 "cells": [
  {
   "cell_type": "markdown",
   "id": "531f5230",
   "metadata": {},
   "source": [
    "# <u>GERADOR MORNING CALLS</u> \n",
    "\n",
    "O programa é uma exploração inicial da API da OpenAI. A ideia é gerar um morning call do mercado através de demais fontes\n",
    "\n",
    "#### O que o programa faz:\n",
    "1. Acessa o conteúdo das morning calls da Órama e XP;\n",
    "2. Resume separadamente cada morning call;\n",
    "3. Usa o ChatGPT para criar um texto no formato de morning call baseado nos tópicos;\n",
    "4. Separa o texto no contexto do Brasil e exterior e exclui parágrafos não relevantes."
   ]
  },
  {
   "cell_type": "markdown",
   "id": "b9512358",
   "metadata": {},
   "source": [
    "Pontos de atenção:\n",
    "\n",
    "* O ChatGPT limita cada completion por um número de tokens (acho que 4000, somando perguntas e respostas). Até então este valor nunca foi ultrapassado, provavelmente algo maior que isso é até muita coisa para ler de qualquer forma;\n",
    "* O ChatGPT limita o número de completions em 3 por minuto, então caso rode mais que isso ele da um erro, é só esperar um tempo e rodar novamente.\n",
    "* Os resultados ainda estão longe de automatizados, são necessários muitos ajustes manuais de classificação de Brasil/externo e coerência.\n",
    "* Alguns dados são divulgados depois que as fontes divulgam o morning call. Nestes casos é necessário pesquisar manualmente sobre a divulgação e pode ser inputados na função \"one_paragraph_summary\" que resume em um parágrafo."
   ]
  },
  {
   "cell_type": "markdown",
   "id": "e706016f",
   "metadata": {},
   "source": [
    "# 0. Import Libraries and Preparation"
   ]
  },
  {
   "cell_type": "code",
   "execution_count": null,
   "id": "ce630ac6",
   "metadata": {},
   "outputs": [],
   "source": [
    "import re\n",
    "import time \n",
    "import requests\n",
    "\n",
    "from tqdm import tqdm\n",
    "from bs4 import BeautifulSoup\n",
    "from datetime import datetime\n",
    "from newspaper import Article\n",
    "\n",
    "## OpenAI Data\n",
    "import openai\n",
    "openai.api_key = 'YOUR OPENAI KEY'\n",
    "\n",
    "## Date\n",
    "today = datetime.today().strftime('%m/%d/%Y')\n",
    "print(today)"
   ]
  },
  {
   "cell_type": "code",
   "execution_count": null,
   "id": "e2385c7e",
   "metadata": {},
   "outputs": [],
   "source": [
    "def get_text_piece(text, starts, ends):\n",
    "    \"\"\"\n",
    "    Get paragraphs from the text that are\n",
    "    between the string \"starts\" and \"ends\"\n",
    "    (not included)\n",
    "    \n",
    "    \"\"\"\n",
    "    return text.split(starts)[1].split(ends)[0]"
   ]
  },
  {
   "cell_type": "code",
   "execution_count": null,
   "id": "fbec84be",
   "metadata": {},
   "outputs": [],
   "source": [
    "def newspaper_text_extraction(file_url):\n",
    "    \"\"\"\n",
    "    Extract text from URL\n",
    "    \n",
    "    \"\"\"\n",
    "    article = Article(file_url)\n",
    "    article.download()\n",
    "    article.parse()\n",
    "    \n",
    "    text = article.text\n",
    "    \n",
    "    ## Correction for XP case\n",
    "    if article.text.startswith('SOBRE O EVENTO') or article.text.startswith('Disclaimer'):\n",
    "        text = get_text_piece(article.html,\n",
    "                              '<h2 class=\"wp-block-heading\" id=\"destaque-do-dia-ou-intertitulo-1\">',\n",
    "                              'Empresas</span></h2>')\n",
    "        \n",
    "        text = re.sub(r'<.*?>', '', text)\n",
    "        text = text.replace('\\t', '')\n",
    "        text = re.sub(r'\\n{3,}', '\\n\\n', text)\n",
    "    \n",
    "    return text"
   ]
  },
  {
   "cell_type": "markdown",
   "id": "bf594a98",
   "metadata": {},
   "source": [
    "## 1. Getting Morning Call Sources"
   ]
  },
  {
   "cell_type": "code",
   "execution_count": null,
   "id": "1d22484f",
   "metadata": {},
   "outputs": [],
   "source": [
    "## Extract Órama Morning Call\n",
    "link_orama = 'https://analise.orama.com.br/panorama-diario-3/'\n",
    "MC_orama = newspaper_text_extraction(link_orama)\n",
    "\n",
    "\n",
    "## Extract XP Morning Call\n",
    "link_xp_base = 'https://conteudos.xpi.com.br/morning-call/'\n",
    "headers = {'User-Agent': 'Mozilla/5.0 (Windows NT 10.0; Win64; x64) AppleWebKit/537.36 (KHTML, like Gecko) Chrome/115.0.0.0 Safari/537.36'}\n",
    "\n",
    "request = requests.get(link_xp_base, headers=headers)\n",
    "soup = BeautifulSoup(request.content, 'html.parser')\n",
    "\n",
    "link_xp = soup.find('a', class_='bloco-materia box-rounded')['href']\n",
    "\n",
    "MC_xp = newspaper_text_extraction(link_xp)\n",
    "MC_xp = MC_xp.split('\\n\\nEmpresas')[0]"
   ]
  },
  {
   "cell_type": "markdown",
   "id": "ca8d5827",
   "metadata": {},
   "source": [
    "# 2. Generate Topics"
   ]
  },
  {
   "cell_type": "code",
   "execution_count": null,
   "id": "1a2af154",
   "metadata": {},
   "outputs": [],
   "source": [
    "def extract_interest_topics(text, words_out, range_min, range_max):\n",
    "    paragraphs = text.split('\\n\\n')[range_min:range_max]\n",
    "    final_paragraphs = []\n",
    "    \n",
    "    for paragraph in paragraphs:\n",
    "        keep_paragraph = True\n",
    "        \n",
    "        for word in words_out:\n",
    "            if word in paragraph.lower():\n",
    "                keep_paragraph = False\n",
    "        \n",
    "        if keep_paragraph:\n",
    "            final_paragraphs.append(paragraph)\n",
    "\n",
    "    return '\\n\\n'.join(final_paragraphs)"
   ]
  },
  {
   "cell_type": "code",
   "execution_count": null,
   "id": "5d9e01b5",
   "metadata": {},
   "outputs": [],
   "source": [
    "completion = openai.ChatCompletion.create(model='gpt-3.5-turbo',\n",
    "                                          messages=[{'role': 'system',\n",
    "                                                     'content': 'You are an Asset Manager and Investment Advisor'},\n",
    "                                                    {'role': 'user',\n",
    "                                                     'content': 'Baseado no texto:\\n\\n' + MC_orama + '\\n\\nEscreva um \\\n",
    "                                                                 resumo comentando sobre o cenário de forma completa'}])\n",
    "\n",
    "summary_orama = completion['choices'][0]['message']['content']\n",
    "time.sleep(30)\n",
    "\n",
    "print(summary_orama)"
   ]
  },
  {
   "cell_type": "code",
   "execution_count": null,
   "id": "66505a68",
   "metadata": {},
   "outputs": [],
   "source": [
    "completion = openai.ChatCompletion.create(model='gpt-3.5-turbo',\n",
    "                                          messages=[{'role': 'system',\n",
    "                                                     'content': 'You are an Asset Manager and Investment Advisor'},\n",
    "                                                    {'role': 'user',\n",
    "                                                     'content': 'Baseado no texto:\\n\\n' + MC_xp + '\\n\\nEscreva um \\\n",
    "                                                                 resumo comentando sobre o cenário de forma completa'}])\n",
    "\n",
    "summary_xp = completion['choices'][0]['message']['content']\n",
    "time.sleep(30)\n",
    "\n",
    "print(summary_xp)"
   ]
  },
  {
   "cell_type": "code",
   "execution_count": null,
   "id": "628848f1",
   "metadata": {},
   "outputs": [],
   "source": [
    "completion = openai.ChatCompletion.create(model='gpt-3.5-turbo',\n",
    "                                          messages=[{'role': 'system',\n",
    "                                                     'content': 'You are an Asset Manager and Investment Advisor'},\n",
    "                                                    {'role': 'user',\n",
    "                                                     'content': 'Baseado nos resumos:\\n\\n' + summary_orama + '\\n\\n' +\n",
    "                                                                 summary_xp + '\\n\\nEscreva uma carta comentando sobre \\\n",
    "                                                                 o cenário de forma completa'}])\n",
    "\n",
    "todays_text = completion['choices'][0]['message']['content']\n",
    "time.sleep(10)\n",
    "\n",
    "print(todays_text)"
   ]
  },
  {
   "cell_type": "code",
   "execution_count": null,
   "id": "dc8a4e24",
   "metadata": {},
   "outputs": [],
   "source": [
    "todays = extract_interest_topics(todays_text, [], 2, -3)\n",
    "print(todays)"
   ]
  },
  {
   "cell_type": "markdown",
   "id": "d4e99e9b",
   "metadata": {},
   "source": [
    "# 3. Generate Morning Call"
   ]
  },
  {
   "cell_type": "code",
   "execution_count": null,
   "id": "3b8e26bf",
   "metadata": {},
   "outputs": [],
   "source": [
    "def separate_topic_paragraphs(text, BR_keywords):\n",
    "    paragraphs = text.split('\\n\\n')\n",
    "    BR_topics = []\n",
    "    EX_topics = []\n",
    "    \n",
    "    for paragraph in paragraphs:\n",
    "        keep_paragraph = False\n",
    "        \n",
    "        for keyword in BR_keywords:\n",
    "            if keyword in paragraph.lower():\n",
    "                keep_paragraph = True\n",
    "                continue\n",
    "                \n",
    "        if keep_paragraph:\n",
    "            BR_topics.append(paragraph)\n",
    "        else:\n",
    "            EX_topics.append(paragraph)\n",
    "    \n",
    "    return BR_topics, EX_topics"
   ]
  },
  {
   "cell_type": "code",
   "execution_count": null,
   "id": "1325c441",
   "metadata": {},
   "outputs": [],
   "source": [
    "BR_topics, EX_topics = separate_topic_paragraphs(todays, ['brasil', 'brasília', 'lula', 'bolsonaro', 'pacheco', 'haddad'])\n",
    "BR_topics = [paragraph.split('No Brasil, ')[1][0].upper() + \n",
    "             paragraph.split('No Brasil, ')[1][1:] if paragraph.startswith('No Brasil, ') \\\n",
    "                                                   else paragraph for paragraph in BR_topics]\n",
    "\n",
    "BR_flag = '\\U0001F1E7\\U0001F1F7'\n",
    "globe = '\\U0001F310'\n",
    "\n",
    "BR_text = '\\n\\n'.join([BR_flag + ' ' + topic for topic in BR_topics])\n",
    "EX_text = '\\n\\n'.join([globe  + ' ' + topic for topic in EX_topics])\n",
    "\n",
    "# Output text\n",
    "MC = '*Destaques do dia*\\n\\n' + BR_text + '\\n\\n' + EX_text\n",
    "print(MC)"
   ]
  }
 ],
 "metadata": {
  "kernelspec": {
   "display_name": "Python 3 (ipykernel)",
   "language": "python",
   "name": "python3"
  },
  "language_info": {
   "codemirror_mode": {
    "name": "ipython",
    "version": 3
   },
   "file_extension": ".py",
   "mimetype": "text/x-python",
   "name": "python",
   "nbconvert_exporter": "python",
   "pygments_lexer": "ipython3",
   "version": "3.10.1"
  }
 },
 "nbformat": 4,
 "nbformat_minor": 5
}
