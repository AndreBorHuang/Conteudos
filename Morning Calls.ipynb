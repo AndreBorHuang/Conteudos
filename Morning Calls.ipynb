{
 "cells": [
  {
   "cell_type": "markdown",
   "id": "531f5230",
   "metadata": {},
   "source": [
    "# <u>GERADOR MORNING CALLS</u> \n",
    "\n",
    "O programa é uma exploração inicial da API da OpenAI. A ideia é gerar um morning call do mercado através de demais fontes\n",
    "\n",
    "#### O que o programa faz:\n",
    "1. Acessa o conteúdo das morning calls da Órama e XP;\n",
    "2. Resume separadamente cada morning call;\n",
    "3. Usa o ChatGPT para criar um texto no formato de morning call baseado nos tópicos;\n",
    "4. Separa o texto no contexto do Brasil e exterior e exclui parágrafos não relevantes."
   ]
  },
  {
   "cell_type": "markdown",
   "id": "b9512358",
   "metadata": {},
   "source": [
    "Pontos de atenção:\n",
    "\n",
    "* O ChatGPT limita cada completion por um número de tokens (acho que 4000, somando perguntas e respostas). Até então este valor nunca foi ultrapassado, provavelmente algo maior que isso é até muita coisa para ler de qualquer forma;\n",
    "* O ChatGPT limita o número de completions em 3 por minuto, então caso rode mais que isso ele da um erro, é só esperar um tempo e rodar novamente.\n",
    "* Os resultados ainda estão longe de automatizados, são necessários muitos ajustes manuais de classificação de Brasil/externo e coerência.\n",
    "* Alguns dados são divulgados depois que as fontes divulgam o morning call. Nestes casos é necessário pesquisar manualmente sobre a divulgação e pode ser inputados na função \"one_paragraph_summary\" que resume em um parágrafo."
   ]
  },
  {
   "cell_type": "markdown",
   "id": "e706016f",
   "metadata": {},
   "source": [
    "# 0. Import Libraries and Preparation"
   ]
  },
  {
   "cell_type": "code",
   "execution_count": 1,
   "id": "ce630ac6",
   "metadata": {},
   "outputs": [
    {
     "ename": "ModuleNotFoundError",
     "evalue": "No module named 'keyboard'",
     "output_type": "error",
     "traceback": [
      "\u001b[1;31m---------------------------------------------------------------------------\u001b[0m",
      "\u001b[1;31mModuleNotFoundError\u001b[0m                       Traceback (most recent call last)",
      "Cell \u001b[1;32mIn[1], line 4\u001b[0m\n\u001b[0;32m      2\u001b[0m \u001b[38;5;28;01mimport\u001b[39;00m \u001b[38;5;21;01mtime\u001b[39;00m \n\u001b[0;32m      3\u001b[0m \u001b[38;5;28;01mimport\u001b[39;00m \u001b[38;5;21;01mlocale\u001b[39;00m\n\u001b[1;32m----> 4\u001b[0m \u001b[38;5;28;01mimport\u001b[39;00m \u001b[38;5;21;01mkeyboard\u001b[39;00m\n\u001b[0;32m      5\u001b[0m \u001b[38;5;28;01mimport\u001b[39;00m \u001b[38;5;21;01mpyautogui\u001b[39;00m\n\u001b[0;32m      6\u001b[0m \u001b[38;5;28;01mimport\u001b[39;00m \u001b[38;5;21;01mfeedparser\u001b[39;00m\n",
      "\u001b[1;31mModuleNotFoundError\u001b[0m: No module named 'keyboard'"
     ]
    }
   ],
   "source": [
    "import re\n",
    "import time \n",
    "import locale\n",
    "import keyboard\n",
    "import pyautogui\n",
    "import feedparser\n",
    "import clipboard\n",
    "import pandas as pd\n",
    "import numpy as np\n",
    "import yfinance as yf\n",
    "import requests\n",
    "\n",
    "from tqdm import tqdm\n",
    "from bs4 import BeautifulSoup\n",
    "from datetime import datetime, timedelta\n",
    "from newspaper import Article\n",
    "\n",
    "## OpenAI Data\n",
    "import openai\n",
    "\n",
    "openai.api_key = 'YOUR OPENAI KEY'\n",
    "\n",
    "## Date\n",
    "today = datetime.today().strftime('%m/%d/%Y')\n",
    "print(today)"
   ]
  },
  {
   "cell_type": "code",
   "execution_count": null,
   "id": "e2385c7e",
   "metadata": {},
   "outputs": [],
   "source": [
    "def get_text_piece(text, starts, ends):\n",
    "    \"\"\"\n",
    "    Get paragraphs from the text that are\n",
    "    between the string \"starts\" and \"ends\"\n",
    "    (not included)\n",
    "    \n",
    "    \"\"\"\n",
    "    return text.split(starts)[1].split(ends)[0]"
   ]
  },
  {
   "cell_type": "code",
   "execution_count": null,
   "id": "fbec84be",
   "metadata": {},
   "outputs": [],
   "source": [
    "def newspaper_text_extraction(file_url):\n",
    "    \"\"\"\n",
    "    Extract text from URL\n",
    "    \n",
    "    \"\"\"\n",
    "    article = Article(file_url)\n",
    "    article.download()\n",
    "    article.parse()\n",
    "    \n",
    "    text = article.text\n",
    "    \n",
    "    ## Correction for XP case\n",
    "    if article.text.startswith('SOBRE O EVENTO') or article.text.startswith('Disclaimer'):\n",
    "        text = get_text_piece(article.html,\n",
    "                              '<h2 class=\"wp-block-heading\" id=\"destaque-do-dia-ou-intertitulo-1\">',\n",
    "                              'Empresas</span></h2>')\n",
    "        \n",
    "        text = re.sub(r'<.*?>', '', text)\n",
    "        text = text.replace('\\t', '')\n",
    "        text = re.sub(r'\\n{3,}', '\\n\\n', text)\n",
    "    \n",
    "    return text"
   ]
  },
  {
   "cell_type": "markdown",
   "id": "bf594a98",
   "metadata": {},
   "source": [
    "## 1. Getting Morning Call Sources"
   ]
  },
  {
   "cell_type": "code",
   "execution_count": null,
   "id": "1d22484f",
   "metadata": {},
   "outputs": [],
   "source": [
    "## Extract Órama Morning Call\n",
    "link_orama = 'https://analise.orama.com.br/panorama-diario-3/'\n",
    "MC_orama = newspaper_text_extraction(link_orama)\n",
    "\n",
    "\n",
    "## Extract XP Morning Call\n",
    "link_xp_base = 'https://conteudos.xpi.com.br/morning-call/'\n",
    "headers = {'User-Agent': 'Mozilla/5.0 (Windows NT 10.0; Win64; x64) AppleWebKit/537.36 (KHTML, like Gecko) Chrome/115.0.0.0 Safari/537.36'}\n",
    "\n",
    "request = requests.get(link_xp_base, headers=headers)\n",
    "soup = BeautifulSoup(request.content, 'html.parser')\n",
    "\n",
    "link_xp = soup.find('a', class_='bloco-materia box-rounded')['href']\n",
    "\n",
    "MC_xp = newspaper_text_extraction(link_xp)\n",
    "MC_xp = MC_xp.split('\\n\\nEmpresas')[0]"
   ]
  },
  {
   "cell_type": "markdown",
   "id": "ca8d5827",
   "metadata": {},
   "source": [
    "# 2. Generate Topics"
   ]
  },
  {
   "cell_type": "code",
   "execution_count": null,
   "id": "1a2af154",
   "metadata": {},
   "outputs": [],
   "source": [
    "def extract_interest_topics(text, words_out, range_min, range_max):\n",
    "    paragraphs = text.split('\\n\\n')[range_min:range_max]\n",
    "    final_paragraphs = []\n",
    "    \n",
    "    for paragraph in paragraphs:\n",
    "        keep_paragraph = True\n",
    "        \n",
    "        for word in words_out:\n",
    "            if word in paragraph.lower():\n",
    "                keep_paragraph = False\n",
    "        \n",
    "        if keep_paragraph:\n",
    "            final_paragraphs.append(paragraph)\n",
    "\n",
    "    return '\\n\\n'.join(final_paragraphs)"
   ]
  },
  {
   "cell_type": "markdown",
   "id": "5e75a978",
   "metadata": {},
   "source": [
    "## 2.1. This Morning"
   ]
  },
  {
   "cell_type": "code",
   "execution_count": null,
   "id": "5d9e01b5",
   "metadata": {},
   "outputs": [],
   "source": [
    "completion = openai.ChatCompletion.create(model='gpt-3.5-turbo',\n",
    "                                          messages=[{'role': 'system',\n",
    "                                                     'content': 'You are an Asset Manager and Investment Advisor'},\n",
    "                                                    {'role': 'user',\n",
    "                                                     'content': 'Baseado no texto:\\n\\n' + MC_orama + '\\n\\nEscreva um \\\n",
    "                                                                 resumo comentando sobre o cenário de forma completa'}])\n",
    "\n",
    "summary_orama = completion['choices'][0]['message']['content']\n",
    "time.sleep(30)"
   ]
  },
  {
   "cell_type": "code",
   "execution_count": null,
   "id": "064dc8d8",
   "metadata": {
    "scrolled": false
   },
   "outputs": [
    {
     "name": "stdout",
     "output_type": "stream",
     "text": [
      "O cenário econômico e político observado nesta manhã está fortemente influenciado por eventos como as decisões de política monetária nos Estados Unidos e no Brasil. Enquanto se aguarda um possível recuo de 50 bps na taxa básica de juros pelo Banco Central do Brasil, as expectativas para o Fed dos EUA são de manutenção. Nas bolsas, a Ásia fechou majoritariamente em alta, impulsionada pela manutenção das taxas de juros na China e à espera do anúncio do Fed. Já na Europa, as bolsas operam sem direção única, influenciadas por quedas no setor de luxo e aguardando a decisão do Fed. No mercado de commodities, o rendimento do T-Note de 10 anos está em 4,28%, os contratos futuros do Brent recuam e o ouro também apresenta queda. O Bitcoin é negociado em alta. Nos EUA, eventos importantes incluem os estoques de Petróleo Bruto, a decisão de política monetária do FOMC e a coletiva de imprensa do FOMC, enquanto no Brasil destaca-se a decisão do COPOM. No mercado brasileiro, o Ibovespa avançou impulsionado por papéis ligados ao minério de ferro, mesmo com a cautela dos investidores diante das decisões políticas nos dois países. Os juros futuros e o dólar tiveram movimentações diferentes ao longo do dia. Internamente, o Relatório Focus do Banco Central aponta ajustes nas projeções para inflação, PIB e câmbio. Além disso, notícias políticas envolvendo regulamentação da reforma tributária e a PF indiciando o ex-presidente Jair Bolsonaro impactam o cenário. No geral, o cenário é marcado pela expectativa em torno das decisões de política monetária e por eventos políticos relevantes tanto no Brasil quanto no exterior.\n"
     ]
    }
   ],
   "source": [
    "print(summary_orama)"
   ]
  },
  {
   "cell_type": "code",
   "execution_count": null,
   "id": "66505a68",
   "metadata": {},
   "outputs": [],
   "source": [
    "completion = openai.ChatCompletion.create(model='gpt-3.5-turbo',\n",
    "                                          messages=[{'role': 'system',\n",
    "                                                     'content': 'You are an Asset Manager and Investment Advisor'},\n",
    "                                                    {'role': 'user',\n",
    "                                                     'content': 'Baseado no texto:\\n\\n' + MC_xp + '\\n\\nEscreva um \\\n",
    "                                                                 resumo comentando sobre o cenário de forma completa'}])\n",
    "\n",
    "summary_xp = completion['choices'][0]['message']['content']\n",
    "time.sleep(30)"
   ]
  },
  {
   "cell_type": "code",
   "execution_count": null,
   "id": "eedfd2d7",
   "metadata": {
    "scrolled": false
   },
   "outputs": [
    {
     "name": "stdout",
     "output_type": "stream",
     "text": [
      "Resumo:\n",
      "\n",
      "No cenário financeiro recente, o Ibovespa fechou com leve alta impulsionado por commodities, enquanto a Embraer teve destaque positivo e a Magalu registrou desempenho negativo. As taxas futuras de juros tiveram queda, alinhadas com os Treasuries dos EUA, enquanto os mercados globais apresentaram variações mistas. Na economia, o PBoC manteve taxas de juros na China, os EUA viram uma forte recuperação na construção de casas e no Brasil, as expectativas de inflação para 2024 e 2025 estão acima da meta. Na Super Quarta-feira, o FOMC deve manter as taxas de juros nos EUA, com possibilidade de cortes a partir de julho. No Brasil, espera-se que o Copom reduza a taxa Selic em 50 pontos-base, refletindo a dinâmica da inflação e a atividade econômica mais forte. Os riscos de curto prazo estão inclinados para cima, com projeções de cortes adicionais nas taxas de juros até atingir 9,0%.\n"
     ]
    }
   ],
   "source": [
    "print(summary_xp)"
   ]
  },
  {
   "cell_type": "code",
   "execution_count": null,
   "id": "628848f1",
   "metadata": {},
   "outputs": [],
   "source": [
    "completion = openai.ChatCompletion.create(model='gpt-3.5-turbo',\n",
    "                                          messages=[{'role': 'system',\n",
    "                                                     'content': 'You are an Asset Manager and Investment Advisor'},\n",
    "                                                    {'role': 'user',\n",
    "                                                     'content': 'Baseado nos resumos:\\n\\n' + summary_orama + '\\n\\n' +\n",
    "                                                                 summary_xp + '\\n\\nEscreva uma carta comentando sobre \\\n",
    "                                                                 o cenário de forma completa'}])\n",
    "\n",
    "todays_text = completion['choices'][0]['message']['content']\n",
    "time.sleep(15)"
   ]
  },
  {
   "cell_type": "code",
   "execution_count": null,
   "id": "1c977fd9",
   "metadata": {},
   "outputs": [
    {
     "name": "stdout",
     "output_type": "stream",
     "text": [
      "Prezado cliente,\n",
      "\n",
      "Espero que esteja bem. Gostaria de abordar o atual cenário econômico e político que tem impactado os mercados financeiros recentemente. \n",
      "\n",
      "Observamos que as decisões de política monetária tanto nos Estados Unidos quanto no Brasil têm sido um ponto central de atenção para investidores e analistas. Enquanto aguardamos possíveis movimentos de redução na taxa básica de juros pelo Banco Central do Brasil, as expectativas em relação ao Fed dos EUA apontam para a manutenção das taxas. Esses eventos têm gerado impactos nas bolsas de valores ao redor do mundo, com a Ásia fechando majoritariamente em alta, impulsionada pela estabilidade das taxas de juros na China e pela expectativa em relação ao anúncio do Fed.\n",
      "\n",
      "Na Europa, as bolsas operam sem uma direção clara, influenciadas por quedas no setor de luxo e também aguardando a decisão do Fed. No mercado de commodities, observamos movimentações interessantes, como o rendimento do T-Note de 10 anos em 4,28%, a queda nos contratos futuros do Brent e no preço do ouro. O Bitcoin, por sua vez, tem apresentado um desempenho positivo.\n",
      "\n",
      "Eventos importantes nos EUA incluem os estoques de Petróleo Bruto, a decisão de política monetária do FOMC e a coletiva de imprensa do FOMC, enquanto no Brasil destaca-se a decisão do COPOM. Internamente, o Relatório Focus do Banco Central indicou ajustes nas projeções para inflação, PIB e câmbio, refletindo a dinâmica da economia brasileira. Além disso, notícias políticas, como a regulamentação da reforma tributária e o indiciamento do ex-presidente Jair Bolsonaro pela PF, têm impactado o cenário.\n",
      "\n",
      "No mercado brasileiro, o Ibovespa avançou impulsionado por papéis ligados ao minério de ferro, apesar da cautela dos investidores diante das decisões políticas nos dois países. As movimentações nos juros futuros e no dólar foram distintas ao longo do dia, indicando uma certa volatilidade nos mercados.\n",
      "\n",
      "Diante desse panorama, é importante ressaltar que os riscos de curto prazo parecem estar inclinados para cima, com projeções de possíveis cortes adicionais nas taxas de juros até atingirem o patamar de 9,0%. É fundamental estar atento às decisões de política monetária e aos desdobramentos políticos tanto no Brasil quanto no exterior, a fim de tomar decisões de investimento fundamentadas e alinhadas com o contexto atual.\n",
      "\n",
      "Estamos à disposição para discutir mais detalhes e ajustar nossa estratégia de investimento conforme necessário. Contem conosco para orientá-los da melhor forma possível neste ambiente desafiador.\n",
      "\n",
      "Atenciosamente,\n",
      "[Seu Nome]\n",
      "Asset Manager e Investment Advisor\n"
     ]
    }
   ],
   "source": [
    "print(todays_text)"
   ]
  },
  {
   "cell_type": "code",
   "execution_count": null,
   "id": "dc8a4e24",
   "metadata": {},
   "outputs": [
    {
     "name": "stdout",
     "output_type": "stream",
     "text": [
      "Observamos que as decisões de política monetária tanto nos Estados Unidos quanto no Brasil têm sido um ponto central de atenção para investidores e analistas. Enquanto aguardamos possíveis movimentos de redução na taxa básica de juros pelo Banco Central do Brasil, as expectativas em relação ao Fed dos EUA apontam para a manutenção das taxas. Esses eventos têm gerado impactos nas bolsas de valores ao redor do mundo, com a Ásia fechando majoritariamente em alta, impulsionada pela estabilidade das taxas de juros na China e pela expectativa em relação ao anúncio do Fed.\n",
      "\n",
      "Na Europa, as bolsas operam sem uma direção clara, influenciadas por quedas no setor de luxo e também aguardando a decisão do Fed. No mercado de commodities, observamos movimentações interessantes, como o rendimento do T-Note de 10 anos em 4,28%, a queda nos contratos futuros do Brent e no preço do ouro. O Bitcoin, por sua vez, tem apresentado um desempenho positivo.\n",
      "\n",
      "Eventos importantes nos EUA incluem os estoques de Petróleo Bruto, a decisão de política monetária do FOMC e a coletiva de imprensa do FOMC, enquanto no Brasil destaca-se a decisão do COPOM. Internamente, o Relatório Focus do Banco Central indicou ajustes nas projeções para inflação, PIB e câmbio, refletindo a dinâmica da economia brasileira. Além disso, notícias políticas, como a regulamentação da reforma tributária e o indiciamento do ex-presidente Jair Bolsonaro pela PF, têm impactado o cenário.\n",
      "\n",
      "No mercado brasileiro, o Ibovespa avançou impulsionado por papéis ligados ao minério de ferro, apesar da cautela dos investidores diante das decisões políticas nos dois países. As movimentações nos juros futuros e no dólar foram distintas ao longo do dia, indicando uma certa volatilidade nos mercados.\n"
     ]
    }
   ],
   "source": [
    "todays = extract_interest_topics(todays_text, [], 2, -3)\n",
    "print(todays)"
   ]
  },
  {
   "cell_type": "markdown",
   "id": "d4e99e9b",
   "metadata": {},
   "source": [
    "# 3. Generate Morning Call"
   ]
  },
  {
   "cell_type": "code",
   "execution_count": null,
   "id": "3b8e26bf",
   "metadata": {},
   "outputs": [],
   "source": [
    "def separate_topic_paragraphs(text, BR_keywords):\n",
    "    paragraphs = text.split('\\n\\n')\n",
    "    BR_topics = []\n",
    "    EX_topics = []\n",
    "    \n",
    "    for paragraph in paragraphs:\n",
    "        keep_paragraph = False\n",
    "        \n",
    "        for keyword in BR_keywords:\n",
    "            if keyword in paragraph.lower():\n",
    "                keep_paragraph = True\n",
    "                continue\n",
    "                \n",
    "        if keep_paragraph:\n",
    "            BR_topics.append(paragraph)\n",
    "        else:\n",
    "            EX_topics.append(paragraph)\n",
    "    \n",
    "    return BR_topics, EX_topics"
   ]
  },
  {
   "cell_type": "code",
   "execution_count": null,
   "id": "1325c441",
   "metadata": {},
   "outputs": [],
   "source": [
    "BR_topics, EX_topics = separate_topic_paragraphs(todays, ['brasil', 'brasília', 'lula', 'bolsonaro', 'pacheco', 'haddad'])\n",
    "BR_topics = [paragraph.split('No Brasil, ')[1][0].upper() + \n",
    "             paragraph.split('No Brasil, ')[1][1:] if paragraph.startswith('No Brasil, ') \\\n",
    "                                                   else paragraph for paragraph in BR_topics]\n",
    "\n",
    "BR_flag = '\\U0001F1E7\\U0001F1F7'\n",
    "globe = '\\U0001F310'\n",
    "\n",
    "BR_text = '\\n\\n'.join([BR_flag + ' ' + topic for topic in BR_topics])\n",
    "EX_text = '\\n\\n'.join([globe  + ' ' + topic for topic in EX_topics])"
   ]
  },
  {
   "cell_type": "code",
   "execution_count": null,
   "id": "cc278842",
   "metadata": {
    "scrolled": false
   },
   "outputs": [
    {
     "name": "stdout",
     "output_type": "stream",
     "text": [
      "*Destaques do dia*\n",
      "\n",
      "🇧🇷 Observamos que as decisões de política monetária tanto nos Estados Unidos quanto no Brasil têm sido um ponto central de atenção para investidores e analistas. Enquanto aguardamos possíveis movimentos de redução na taxa básica de juros pelo Banco Central do Brasil, as expectativas em relação ao Fed dos EUA apontam para a manutenção das taxas. Esses eventos têm gerado impactos nas bolsas de valores ao redor do mundo, com a Ásia fechando majoritariamente em alta, impulsionada pela estabilidade das taxas de juros na China e pela expectativa em relação ao anúncio do Fed.\n",
      "\n",
      "🇧🇷 Eventos importantes nos EUA incluem os estoques de Petróleo Bruto, a decisão de política monetária do FOMC e a coletiva de imprensa do FOMC, enquanto no Brasil destaca-se a decisão do COPOM. Internamente, o Relatório Focus do Banco Central indicou ajustes nas projeções para inflação, PIB e câmbio, refletindo a dinâmica da economia brasileira. Além disso, notícias políticas, como a regulamentação da reforma tributária e o indiciamento do ex-presidente Jair Bolsonaro pela PF, têm impactado o cenário.\n",
      "\n",
      "🇧🇷 No mercado brasileiro, o Ibovespa avançou impulsionado por papéis ligados ao minério de ferro, apesar da cautela dos investidores diante das decisões políticas nos dois países. As movimentações nos juros futuros e no dólar foram distintas ao longo do dia, indicando uma certa volatilidade nos mercados.\n",
      "\n",
      "🌐 Na Europa, as bolsas operam sem uma direção clara, influenciadas por quedas no setor de luxo e também aguardando a decisão do Fed. No mercado de commodities, observamos movimentações interessantes, como o rendimento do T-Note de 10 anos em 4,28%, a queda nos contratos futuros do Brent e no preço do ouro. O Bitcoin, por sua vez, tem apresentado um desempenho positivo.\n"
     ]
    }
   ],
   "source": [
    "MC = '*Destaques do dia*\\n\\n' + BR_text + '\\n\\n' + EX_text\n",
    "\n",
    "print(MC)"
   ]
  }
 ],
 "metadata": {
  "kernelspec": {
   "display_name": "Python 3 (ipykernel)",
   "language": "python",
   "name": "python3"
  },
  "language_info": {
   "codemirror_mode": {
    "name": "ipython",
    "version": 3
   },
   "file_extension": ".py",
   "mimetype": "text/x-python",
   "name": "python",
   "nbconvert_exporter": "python",
   "pygments_lexer": "ipython3",
   "version": "3.10.1"
  }
 },
 "nbformat": 4,
 "nbformat_minor": 5
}
