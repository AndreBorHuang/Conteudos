{
 "cells": [
  {
   "cell_type": "markdown",
   "id": "83d473bd",
   "metadata": {},
   "source": [
    "# Script de Geração do Template de Resultados do Focus"
   ]
  },
  {
   "cell_type": "markdown",
   "id": "8377ef46",
   "metadata": {},
   "source": [
    "Execução do Código:\n",
    "\n",
    "* Entra no site do BC e baixa o documento do focus da segunda respectiva;\n",
    "* Lê o PDF e separa os dados de interesse;\n",
    "* Por fim os dados são adicionados ao template."
   ]
  },
  {
   "cell_type": "markdown",
   "id": "cb73d4aa",
   "metadata": {},
   "source": [
    "Pontos de Atenção:\n",
    "\n",
    "* Modificar \"base_path\" e \"download_directory\" de acordo com seu PC;\n",
    "* Pode ser que ao ler o PDF os números venham com espaços enter os dígitos ou algo similar. O código não consegue lidar com esse tipo de erro, neste caso sugere-se alterar o template original.\n",
    "\n",
    "Link template original: https://www.canva.com/design/DAFo6BHnFLo/wSjpGwHscBFz2tyPrBT44w/edit"
   ]
  },
  {
   "cell_type": "markdown",
   "id": "1e82c2b8",
   "metadata": {},
   "source": [
    "# 0. Import Libraries"
   ]
  },
  {
   "cell_type": "code",
   "execution_count": 1,
   "id": "16c9e791",
   "metadata": {},
   "outputs": [],
   "source": [
    "import os\n",
    "import openpyxl\n",
    "import locale\n",
    "import PyPDF2\n",
    "import requests\n",
    "import pandas as pd\n",
    "\n",
    "from io import BytesIO\n",
    "from bcb import Expectativas\n",
    "from datetime import datetime, timedelta\n",
    "from PIL import Image, ImageDraw, ImageFont\n",
    "\n",
    "## Warnings Off\n",
    "import warnings\n",
    "warnings.filterwarnings(\"ignore\")"
   ]
  },
  {
   "cell_type": "code",
   "execution_count": 2,
   "id": "cf4c7021",
   "metadata": {},
   "outputs": [
    {
     "name": "stdout",
     "output_type": "stream",
     "text": [
      "20240610\n"
     ]
    }
   ],
   "source": [
    "## Paths\n",
    "base_path = r'Grupo GCB\\GCB CAPITAL - Investimentos\\GCB Capital1\\\\'\n",
    "# base_path = r'Grupo GCB\\GCB CAPITAL - Documentos\\Investimentos\\GCB Capital1\\\\'\n",
    "\n",
    "backoffice_path = os.path.join(os.path.expanduser(\"~\"), base_path + r\"Backoffice\\\\\")\n",
    "\n",
    "image_path = os.path.join(os.path.expanduser(\"~\"), backoffice_path + r\"Conteudo_Divulgacao\\Templates\\\\\")\n",
    "saving_path = os.path.join(os.path.expanduser(\"~\"), backoffice_path + r\"Conteudo_Divulgacao\\Imagens\\\\\")\n",
    "\n",
    "## Set Locale\n",
    "locale.setlocale(locale.LC_ALL, 'pt_BR')\n",
    "\n",
    "## Day\n",
    "today = datetime.today().strftime('%Y%m%d')\n",
    "\n",
    "curr_year = datetime.today().year\n",
    "next_year = curr_year + 1\n",
    "print(today)"
   ]
  },
  {
   "cell_type": "markdown",
   "id": "60d0b886",
   "metadata": {},
   "source": [
    "# 1. Collect Focus Data"
   ]
  },
  {
   "cell_type": "code",
   "execution_count": 3,
   "id": "c66c6332",
   "metadata": {},
   "outputs": [],
   "source": [
    "def get_last_friday():\n",
    "    today = datetime.today()\n",
    "    today_weekday = today.weekday()  # Monday is 0, Sunday is 6\n",
    "    \n",
    "    # Calculate the number of days to subtract to get to the last Friday (weekday 4)\n",
    "    days_difference = today_weekday - 4 if today_weekday >= 4 else today_weekday + 3\n",
    "\n",
    "    # Subtract the calculated days to get the date of the last Friday\n",
    "    last_friday = today - timedelta(days=days_difference)\n",
    "\n",
    "    return last_friday"
   ]
  },
  {
   "cell_type": "code",
   "execution_count": 4,
   "id": "e63a6818",
   "metadata": {},
   "outputs": [
    {
     "ename": "FileNotFoundError",
     "evalue": "[Errno 2] No such file or directory: 'C:\\\\Users\\\\andre.huang\\\\Grupo GCB\\\\GCB CAPITAL - Investimentos\\\\GCB Capital1\\\\Backoffice\\\\Conteudo_Divulgacao\\\\Focus Reports\\\\R20240607.pdf'",
     "output_type": "error",
     "traceback": [
      "\u001b[1;31m---------------------------------------------------------------------------\u001b[0m",
      "\u001b[1;31mFileNotFoundError\u001b[0m                         Traceback (most recent call last)",
      "\u001b[1;32m~\\AppData\\Local\\Temp\\ipykernel_12348\\3967757664.py\u001b[0m in \u001b[0;36m<module>\u001b[1;34m\u001b[0m\n\u001b[0;32m     21\u001b[0m \u001b[1;33m\u001b[0m\u001b[0m\n\u001b[0;32m     22\u001b[0m     \u001b[1;31m# Save the PDF content to the download path\u001b[0m\u001b[1;33m\u001b[0m\u001b[1;33m\u001b[0m\u001b[0m\n\u001b[1;32m---> 23\u001b[1;33m     \u001b[1;32mwith\u001b[0m \u001b[0mopen\u001b[0m\u001b[1;33m(\u001b[0m\u001b[0mdownload_path\u001b[0m\u001b[1;33m,\u001b[0m \u001b[1;34m\"wb\"\u001b[0m\u001b[1;33m)\u001b[0m \u001b[1;32mas\u001b[0m \u001b[0mf\u001b[0m\u001b[1;33m:\u001b[0m\u001b[1;33m\u001b[0m\u001b[1;33m\u001b[0m\u001b[0m\n\u001b[0m\u001b[0;32m     24\u001b[0m         \u001b[0mf\u001b[0m\u001b[1;33m.\u001b[0m\u001b[0mwrite\u001b[0m\u001b[1;33m(\u001b[0m\u001b[0mresponse\u001b[0m\u001b[1;33m.\u001b[0m\u001b[0mcontent\u001b[0m\u001b[1;33m)\u001b[0m\u001b[1;33m\u001b[0m\u001b[1;33m\u001b[0m\u001b[0m\n\u001b[0;32m     25\u001b[0m \u001b[1;33m\u001b[0m\u001b[0m\n",
      "\u001b[1;31mFileNotFoundError\u001b[0m: [Errno 2] No such file or directory: 'C:\\\\Users\\\\andre.huang\\\\Grupo GCB\\\\GCB CAPITAL - Investimentos\\\\GCB Capital1\\\\Backoffice\\\\Conteudo_Divulgacao\\\\Focus Reports\\\\R20240607.pdf'"
     ]
    }
   ],
   "source": [
    "# Set the URL of the PDF\n",
    "last_friday = get_last_friday().strftime('%Y%m%d')\n",
    "# last_friday = get_last_friday().strftime('20240328')\n",
    "pdf_url = f'https://www.bcb.gov.br/content/focus/focus/R{last_friday}.pdf'\n",
    "\n",
    "# Set the download directory\n",
    "# download_directory = r\"C:\\Users\\LeonardoDrabikBaranM\\Grupo GCB\\GCB CAPITAL - Investimentos\\GCB Capital1\\Backoffice\\Conteudo_Divulgacao\\Focus Reports\"\n",
    "download_directory = r\"C:\\Users\\andre.huang\\Grupo GCB\\GCB CAPITAL - Investimentos\\GCB Capital1\\Backoffice\\Conteudo_Divulgacao\\Focus Reports\"\n",
    "#download_directory = r\"C:\\Users\\LeonardoDrabikBaranM\\Grupo GCB\\GCB CAPITAL - Investimentos\\GCB Capital1\\Backoffice\\Conteudo_Divulgacao\\Focus Reports\"\n",
    "\n",
    "# Send a GET request to the PDF URL\n",
    "response = requests.get(pdf_url)\n",
    "\n",
    "# Check if the request was successful\n",
    "if response.status_code == 200:\n",
    "    # Extract the file name from the URL\n",
    "    file_name = os.path.basename(pdf_url)\n",
    "    \n",
    "    # Construct the download path\n",
    "    download_path = os.path.join(download_directory, file_name)\n",
    "    \n",
    "    # Save the PDF content to the download path\n",
    "    with open(download_path, \"wb\") as f:\n",
    "        f.write(response.content)\n",
    "    \n",
    "    print(f\"Downloaded: {download_path}\")\n",
    "    \n",
    "else:\n",
    "    print(\"Failed to download the PDF.\")"
   ]
  },
  {
   "cell_type": "code",
   "execution_count": null,
   "id": "621bb2bc",
   "metadata": {},
   "outputs": [],
   "source": [
    "# Open the PDF file\n",
    "with open(download_path, \"rb\") as pdf_file:\n",
    "    # Create a PDF reader object\n",
    "    pdf_reader = PyPDF2.PdfReader(pdf_file)\n",
    "    \n",
    "    # Extracted the text\n",
    "    page = pdf_reader.pages[0]\n",
    "    extracted_text = page.extract_text()\n",
    "    \n",
    "    # Print the extracted text\n",
    "    ipca = extracted_text.split('IPCA')[1].split()[2:5] + extracted_text.split('IPCA')[1].split(')')[2].split()[4:6]\n",
    "\n",
    "    selic = extracted_text.split('Selic')[1].split()[2:5] + extracted_text.split('Selic')[1].split(')')[2].split()[4:6]\n",
    "    \n",
    "    pib = extracted_text.split('PIB')[1].split()[6:9] + extracted_text.split('PIB')[1].split(')')[2].split()[4:6]\n",
    "    \n",
    "    cambio = extracted_text.split('Câmbio')[1].split()[1:4] + extracted_text.split('Câmbio')[1].split(')')[2].split()[4:6]\n",
    "    \n",
    "    ## Compile into a df\n",
    "    focus_data = pd.DataFrame({'IPCA': ipca, 'Selic': selic, 'PIB': pib, 'Câmbio': cambio}, index=[f'{curr_year}_4w',\n",
    "                                                                                                   f'{curr_year}_1w',\n",
    "                                                                                                   f'{curr_year}_0w',\n",
    "                                                                                                   f'{next_year}_1w',\n",
    "                                                                                                   f'{next_year}_0w']).T"
   ]
  },
  {
   "cell_type": "code",
   "execution_count": null,
   "id": "52ca329f",
   "metadata": {},
   "outputs": [],
   "source": [
    "print(extracted_text)"
   ]
  },
  {
   "cell_type": "code",
   "execution_count": null,
   "id": "4f914521",
   "metadata": {},
   "outputs": [],
   "source": [
    "focus_data"
   ]
  },
  {
   "cell_type": "raw",
   "id": "70f252ff",
   "metadata": {},
   "source": [
    "focus_data.iloc[0, 2] = '3,75'"
   ]
  },
  {
   "cell_type": "code",
   "execution_count": null,
   "id": "300b665f",
   "metadata": {},
   "outputs": [],
   "source": [
    "focus_data['2024_4w'] = [x.replace('▲', '') for x in focus_data['2024_4w']]\n",
    "focus_data['2024_1w'] = [x.replace('▲', '') for x in focus_data['2024_1w']]\n",
    "focus_data['2024_0w'] = [x.replace('▲', '') for x in focus_data['2024_0w']]\n",
    "focus_data['2025_1w'] = [x.replace('▲', '') for x in focus_data['2025_1w']]\n",
    "focus_data['2025_0w'] = [x.replace('▲', '') for x in focus_data['2025_0w']]\n",
    "focus_data['2024_4w'] = [x.replace('▼', '') for x in focus_data['2024_4w']]\n",
    "focus_data['2024_1w'] = [x.replace('▼', '') for x in focus_data['2024_1w']]\n",
    "focus_data['2024_0w'] = [x.replace('▼', '') for x in focus_data['2024_0w']]\n",
    "focus_data['2025_1w'] = [x.replace('▼', '') for x in focus_data['2025_1w']]\n",
    "focus_data['2025_0w'] = [x.replace('▼', '') for x in focus_data['2025_0w']]\n",
    "focus_data"
   ]
  },
  {
   "cell_type": "markdown",
   "id": "10021d09",
   "metadata": {},
   "source": [
    "# 2. Manipulate Template"
   ]
  },
  {
   "cell_type": "code",
   "execution_count": null,
   "id": "735b4aac",
   "metadata": {},
   "outputs": [],
   "source": [
    "def add_text_to_image(img, text, position, font_text='arial', font_size=29, text_color='blue'):\n",
    "    ## Get color\n",
    "    colors = {'blue': '#183851', 'gold': '#CA9E67'}\n",
    "    \n",
    "    if text_color in colors.keys():\n",
    "        color = colors[text_color]\n",
    "    else:\n",
    "        color = text_color\n",
    "\n",
    "    # Create a drawing context\n",
    "    draw = ImageDraw.Draw(img)\n",
    "\n",
    "    # Set the font and color for the text\n",
    "    font = ImageFont.truetype(font_text, font_size)\n",
    "    draw.text(position, text, fill=color, anchor=\"mm\", font=font)\n",
    "\n",
    "    return img"
   ]
  },
  {
   "cell_type": "code",
   "execution_count": null,
   "id": "4518a6b2",
   "metadata": {},
   "outputs": [],
   "source": [
    "def add_mov(img, idx, ref, position=(540, 960)):\n",
    "    ## Separate Values\n",
    "    value_0w = focus_data.at[idx, ref + '_0w']\n",
    "    value_1w = focus_data.at[idx, ref + '_1w']\n",
    "    \n",
    "    # Open Movement Image\n",
    "    if value_0w > value_1w:\n",
    "        mov = Image.open(image_path + 'up.png')\n",
    "    elif value_0w < value_1w:\n",
    "        mov = Image.open(image_path + 'down.png')\n",
    "    else:\n",
    "        mov = Image.open(image_path + 'equal.png')\n",
    "\n",
    "    # Resize the Moreground Image\n",
    "    mov = mov.resize(size=(32, 28))\n",
    "\n",
    "    # Paste the foreground image onto the background image\n",
    "    img.paste(mov, position)\n",
    "\n",
    "    return img"
   ]
  },
  {
   "cell_type": "code",
   "execution_count": null,
   "id": "031f5dc2",
   "metadata": {},
   "outputs": [],
   "source": [
    "## Template\n",
    "img = Image.open(image_path + 'template_focus_2024.png')\n",
    "\n",
    "## Parameters\n",
    "font_date = 'C:/Windows/Fonts/arialbd.ttf'\n",
    "font_size_date = 40\n",
    "font_text = 'C:/Windows/Fonts/segoeuil.ttf'\n",
    "font_size_values = 50\n",
    "text_color = 'white'"
   ]
  },
  {
   "cell_type": "code",
   "execution_count": null,
   "id": "6ec8fe98",
   "metadata": {},
   "outputs": [],
   "source": [
    "## Date\n",
    "months = [\"Janeiro\", \"Fevereiro\", \"Março\", \"Abril\", \"Maio\", \"Junho\",\n",
    "          \"Julho\", \"Agosto\", \"Setembro\", \"Outubro\", \"Novembro\", \"Dezembro\"]\n",
    "\n",
    "date = datetime.today()\n",
    "date = date.strftime(\"%d de {} de %Y\").format(months[date.month - 1])\n",
    "\n",
    "img = add_text_to_image(img, date,\n",
    "                        position=(535, 460),\n",
    "                        font_text=font_date,\n",
    "                        font_size=font_size_date,\n",
    "                        text_color=text_color)\n",
    "\n",
    "## IPCA\n",
    "img = add_text_to_image(img, focus_data.at['IPCA', f'{curr_year}_4w'],\n",
    "                        position=(410, 995),\n",
    "                        font_text=font_text,\n",
    "                        font_size=font_size_values,\n",
    "                        text_color=text_color)\n",
    "\n",
    "img = add_text_to_image(img, focus_data.at['IPCA', f'{curr_year}_1w'],\n",
    "                        position=(585, 995),\n",
    "                        font_text=font_text,\n",
    "                        font_size=font_size_values,\n",
    "                        text_color=text_color)\n",
    "\n",
    "img = add_text_to_image(img, focus_data.at['IPCA', f'{curr_year}_0w'],\n",
    "                        position=(755, 995),\n",
    "                        font_text=font_text,\n",
    "                        font_size=font_size_values,\n",
    "                        text_color=text_color)\n",
    "\n",
    "img = add_text_to_image(img, focus_data.at['IPCA', f'{next_year}_0w'],\n",
    "                        position=(945, 995),\n",
    "                        font_text=font_text,\n",
    "                        font_size=font_size_values,\n",
    "                        text_color=text_color)\n",
    "\n",
    "img = add_mov(img, 'IPCA', '2024', position=(817, 985))\n",
    "\n",
    "img = add_mov(img, 'IPCA', '2025', position=(1002, 985))\n",
    "\n",
    "## Selic\n",
    "img = add_text_to_image(img, focus_data.at['Selic', f'{curr_year}_4w'],\n",
    "                        position=(410, 1138),\n",
    "                        font_text=font_text,\n",
    "                        font_size=font_size_values,\n",
    "                        text_color=text_color)\n",
    "\n",
    "img = add_text_to_image(img, focus_data.at['Selic', f'{curr_year}_1w'],\n",
    "                        position=(585, 1138),\n",
    "                        font_text=font_text,\n",
    "                        font_size=font_size_values,\n",
    "                        text_color=text_color)\n",
    "\n",
    "img = add_text_to_image(img, focus_data.at['Selic', f'{curr_year}_0w'],\n",
    "                        position=(755, 1138),\n",
    "                        font_text=font_text,\n",
    "                        font_size=font_size_values,\n",
    "                        text_color=text_color)\n",
    "\n",
    "img = add_text_to_image(img, focus_data.at['Selic', f'{next_year}_0w'],\n",
    "                        position=(945, 1138),\n",
    "                        font_text=font_text,\n",
    "                        font_size=font_size_values,\n",
    "                        text_color=text_color)\n",
    "\n",
    "img = add_mov(img, 'Selic', '2024', position=(817, 1128))\n",
    "\n",
    "img = add_mov(img, 'Selic', '2025', position=(1002, 1128))\n",
    "\n",
    "## PIB\n",
    "img = add_text_to_image(img, focus_data.at['PIB', f'{curr_year}_4w'],\n",
    "                        position=(410, 1275),\n",
    "                        font_text=font_text,\n",
    "                        font_size=font_size_values,\n",
    "                        text_color=text_color)\n",
    "\n",
    "img = add_text_to_image(img, focus_data.at['PIB', f'{curr_year}_1w'],\n",
    "                        position=(585, 1275),\n",
    "                        font_text=font_text,\n",
    "                        font_size=font_size_values,\n",
    "                        text_color=text_color)\n",
    "\n",
    "img = add_text_to_image(img, focus_data.at['PIB', f'{curr_year}_0w'],\n",
    "                        position=(755, 1275),\n",
    "                        font_text=font_text,\n",
    "                        font_size=font_size_values,\n",
    "                        text_color=text_color)\n",
    "\n",
    "img = add_text_to_image(img, focus_data.at['PIB', f'{next_year}_0w'],\n",
    "                        position=(945, 1275),\n",
    "                        font_text=font_text,\n",
    "                        font_size=font_size_values,\n",
    "                        text_color=text_color)\n",
    "\n",
    "img = add_mov(img, 'PIB', '2024', position=(817, 1265))\n",
    "\n",
    "img = add_mov(img, 'PIB', '2025', position=(1002, 1265))\n",
    "\n",
    "## Câmbio\n",
    "img = add_text_to_image(img, focus_data.at['Câmbio', f'{curr_year}_4w'],\n",
    "                        position=(410, 1412),\n",
    "                        font_text=font_text,\n",
    "                        font_size=font_size_values,\n",
    "                        text_color=text_color)\n",
    "\n",
    "img = add_text_to_image(img, focus_data.at['Câmbio', f'{curr_year}_1w'],\n",
    "                        position=(585, 1412),\n",
    "                        font_text=font_text,\n",
    "                        font_size=font_size_values,\n",
    "                        text_color=text_color)\n",
    "\n",
    "img = add_text_to_image(img, focus_data.at['Câmbio', f'{curr_year}_0w'],\n",
    "                        position=(755, 1412),\n",
    "                        font_text=font_text,\n",
    "                        font_size=font_size_values,\n",
    "                        text_color=text_color)\n",
    "\n",
    "img = add_text_to_image(img, focus_data.at['Câmbio', f'{next_year}_0w'],\n",
    "                        position=(945, 1412),\n",
    "                        font_text=font_text,\n",
    "                        font_size=font_size_values,\n",
    "                        text_color=text_color)\n",
    "\n",
    "img = add_mov(img, 'Câmbio', '2024', position=(817, 1402))\n",
    "\n",
    "img = add_mov(img, 'Câmbio', '2025', position=(1002, 1402))"
   ]
  },
  {
   "cell_type": "code",
   "execution_count": null,
   "id": "6553c5f4",
   "metadata": {
    "scrolled": false
   },
   "outputs": [],
   "source": [
    "img = img.convert(\"RGB\")\n",
    "img.save(saving_path + r'\\Focus\\focus_' + last_friday + '.png')\n",
    "img"
   ]
  }
 ],
 "metadata": {
  "kernelspec": {
   "display_name": "Python 3 (ipykernel)",
   "language": "python",
   "name": "python3"
  },
  "language_info": {
   "codemirror_mode": {
    "name": "ipython",
    "version": 3
   },
   "file_extension": ".py",
   "mimetype": "text/x-python",
   "name": "python",
   "nbconvert_exporter": "python",
   "pygments_lexer": "ipython3",
   "version": "3.9.13"
  }
 },
 "nbformat": 4,
 "nbformat_minor": 5
}
